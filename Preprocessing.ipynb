{
 "cells": [
  {
   "cell_type": "markdown",
   "id": "1f09e404",
   "metadata": {},
   "source": [
    "### Filter Pitched sentences only\n",
    "##### The dataset is quite big and all the lines do not contain udatta, anudatta, and svarita matras, so the dataset will be trimmed\n",
    "##### 10,00,865 lines in original dataset\n",
    "##### 32,864 lines filtered and saved in 'filtered_sanskritdoc.txt' file\n"
   ]
  },
  {
   "cell_type": "markdown",
   "id": "d359bb8f",
   "metadata": {},
   "source": [
    "Download the dataset from https://github.com/ihdia/sanskrit-ocr/blob/main/data_preparation/synthetic/sanskritdoc.zip"
   ]
  },
  {
   "cell_type": "code",
   "execution_count": 25,
   "id": "9c6e120a",
   "metadata": {},
   "outputs": [
    {
     "name": "stdout",
     "output_type": "stream",
     "text": [
      "Filtered 32864 lines with Vedic accents and saved to 'filtered_sanskritdoc.txt'.\n"
     ]
    }
   ],
   "source": [
    "import os\n",
    "\n",
    "VEDIC_ACCENTS = ['\\u0951', '\\u0952', '\\u0953', '\\u0954', '\\u1CDA']\n",
    "input_file = 'sanskritdoc.txt'\n",
    "output_file = 'filtered_sanskritdoc.txt'\n",
    "\n",
    "filtered_lines = []\n",
    "\n",
    "with open(input_file, 'r', encoding='utf-8-sig') as file:\n",
    "    for line in file:\n",
    "        if any(accent in line for accent in VEDIC_ACCENTS):\n",
    "            filtered_lines.append(line)\n",
    "\n",
    "# Save the filtered lines\n",
    "with open(output_file, 'w', encoding='utf-8') as outfile:\n",
    "    outfile.writelines(filtered_lines)\n",
    "\n",
    "print(f\"Filtered {len(filtered_lines)} lines with Vedic accents and saved to '{output_file}'.\")\n"
   ]
  },
  {
   "cell_type": "code",
   "execution_count": null,
   "id": "41706ff4",
   "metadata": {},
   "outputs": [],
   "source": [
    "\n",
    "input = \"होता᳚रं रत्न॒धात॑मम्\"\n",
    "for i in input:\n",
    "    if i in VEDIC_ACCENTS:\n",
    "        print(\"found a token:\",i)"
   ]
  },
  {
   "cell_type": "code",
   "execution_count": 27,
   "id": "b2c36e69",
   "metadata": {},
   "outputs": [
    {
     "name": "stdout",
     "output_type": "stream",
     "text": [
      "Accent U+0951: '॑'\n",
      "Accent U+0952: '॒'\n",
      "Accent U+0953: '॓'\n",
      "Accent U+0954: '॔'\n",
      "Accent U+1CDA: '᳚'\n"
     ]
    }
   ],
   "source": [
    "for accent in VEDIC_ACCENTS:\n",
    "    print(f\"Accent U+{ord(accent):04X}: {repr(accent)}\")\n"
   ]
  },
  {
   "cell_type": "code",
   "execution_count": 29,
   "id": "8b93c829",
   "metadata": {},
   "outputs": [],
   "source": [
    "def remove_pitch(text):\n",
    "    return ''.join(char for char in text if char not in VEDIC_ACCENTS)"
   ]
  },
  {
   "cell_type": "code",
   "execution_count": 32,
   "id": "97e5e06a",
   "metadata": {},
   "outputs": [
    {
     "name": "stdout",
     "output_type": "stream",
     "text": [
      "Original:  होता᳚रं रत्न॒धात॑मम्\n",
      "Cleaned :  होतारं रत्नधातमम्\n"
     ]
    }
   ],
   "source": [
    "text_with_accents = \"होता᳚रं \" \\\n",
    "\"रत्न॒धात॑मम्\"\n",
    "clean_text = remove_pitch(text_with_accents)\n",
    "\n",
    "print(\"Original: \", text_with_accents)\n",
    "print(\"Cleaned : \", clean_text)\n"
   ]
  }
 ],
 "metadata": {
  "kernelspec": {
   "display_name": "SargamLM",
   "language": "python",
   "name": "python3"
  },
  "language_info": {
   "codemirror_mode": {
    "name": "ipython",
    "version": 3
   },
   "file_extension": ".py",
   "mimetype": "text/x-python",
   "name": "python",
   "nbconvert_exporter": "python",
   "pygments_lexer": "ipython3",
   "version": "3.10.18"
  }
 },
 "nbformat": 4,
 "nbformat_minor": 5
}
