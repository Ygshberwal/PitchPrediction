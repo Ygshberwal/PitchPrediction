{
 "cells": [
  {
   "cell_type": "markdown",
   "id": "098bab6e",
   "metadata": {},
   "source": [
    "### Train, Val and Test split (80:10:10) "
   ]
  },
  {
   "cell_type": "code",
   "execution_count": 1,
   "id": "b26b2361",
   "metadata": {},
   "outputs": [
    {
     "name": "stdout",
     "output_type": "stream",
     "text": [
      "Training set size: 26291\n",
      "Validation set size: 3286\n",
      "Test set size: 3287\n"
     ]
    }
   ],
   "source": [
    "import random\n",
    "\n",
    "with open('filtered_sanskritdoc.txt', 'r', encoding='utf-8') as f:\n",
    "    sentences = [line.strip() for line in f]\n",
    "\n",
    "random.shuffle(sentences)\n",
    "\n",
    "train_size = int(len(sentences) * 0.8)\n",
    "val_size = int(len(sentences) * 0.1)\n",
    "\n",
    "train_set = sentences[:train_size]\n",
    "val_set = sentences[train_size:train_size + val_size]\n",
    "test_set = sentences[train_size + val_size:]\n",
    "\n",
    "print(f\"Training set size: {len(train_set)}\")\n",
    "print(f\"Validation set size: {len(val_set)}\")\n",
    "print(f\"Test set size: {len(test_set)}\")"
   ]
  },
  {
   "cell_type": "code",
   "execution_count": 2,
   "id": "e48f5366",
   "metadata": {},
   "outputs": [
    {
     "name": "stdout",
     "output_type": "stream",
     "text": [
      "Train Pitched: नू ष्टु॒त इ॑न्द्र॒ नू गृ॑णा॒न इषं॑ जरि॒त्रे न॒द्यो॒३॒॑ न पी॑पेः ।\n",
      "Train Unpitched: नू ष्टुत इन्द्र नू गृणान इषं जरित्रे नद्यो३ न पीपेः ।\n",
      "Validation Pitched: ए॒भिः सोमे॑भिः सोम॒सुद्भिः॑ सोमपा दा॒नाय॑ शुक्रपूतपाः ॥ ८.०४६.२६\n",
      "Validation Unpitched: एभिः सोमेभिः सोमसुद्भिः सोमपा दानाय शुक्रपूतपाः ॥ ८.०४६.२६\n",
      "Test Pitched: श्व॒घ्नीव॒ यो जि॑गी॒वाँल्ल॒क्षमाद॑द॒र्यः पु॒ष्टानि॒ स ज॑नास॒ इन्द्रः॑ ॥ २.०१२.०४\n",
      "Test Unpitched: श्वघ्नीव यो जिगीवाँल्लक्षमाददर्यः पुष्टानि स जनास इन्द्रः ॥ २.०१२.०४\n"
     ]
    }
   ],
   "source": [
    "VEDIC_ACCENTS = ['\\u0951', '\\u0952', '\\u0953', '\\u0954', '\\u1CDA']\n",
    "\n",
    "def create_pitched_unpitched(sentences, vedic_accents):\n",
    "    pitched_sentences = []\n",
    "    unpitched_sentences = []\n",
    "    for sentence in sentences:\n",
    "        unpitched_sentence = sentence\n",
    "        for accent in vedic_accents:\n",
    "            unpitched_sentence = unpitched_sentence.replace(accent, '')\n",
    "        pitched_sentences.append(sentence)\n",
    "        unpitched_sentences.append(unpitched_sentence)\n",
    "    return pitched_sentences, unpitched_sentences\n",
    "\n",
    "train_pitched, train_unpitched = create_pitched_unpitched(train_set, VEDIC_ACCENTS)\n",
    "val_pitched, val_unpitched = create_pitched_unpitched(val_set, VEDIC_ACCENTS)\n",
    "test_pitched, test_unpitched = create_pitched_unpitched(test_set, VEDIC_ACCENTS)\n",
    "\n",
    "print(\"Train Pitched:\", train_pitched[0])\n",
    "print(\"Train Unpitched:\", train_unpitched[0])\n",
    "print(\"Validation Pitched:\", val_pitched[0])\n",
    "print(\"Validation Unpitched:\", val_unpitched[0])\n",
    "print(\"Test Pitched:\", test_pitched[0])\n",
    "print(\"Test Unpitched:\", test_unpitched[0])"
   ]
  },
  {
   "cell_type": "code",
   "execution_count": 3,
   "id": "31617b83",
   "metadata": {},
   "outputs": [
    {
     "name": "stdout",
     "output_type": "stream",
     "text": [
      "Plain Text \n",
      "Pitched Text\n",
      "\n",
      "नू ष्टुत इन्द्र नू गृणान इषं जरित्रे नद्यो३ न पीपेः ।\n",
      "नू ष्टु॒त इ॑न्द्र॒ नू गृ॑णा॒न इषं॑ जरि॒त्रे न॒द्यो॒३॒॑ न पी॑पेः ।\n",
      "--------------------\n",
      "ॐ उपास्मै गायता नरः पवमानायेन्दवे ।\n",
      "ॐ उपा᳚स्मै गायता नरः॒ पव॑माना॒येन्द॑वे ।\n",
      "--------------------\n",
      "तुरीयमिद्रोहितस्य पाकस्थामानं भोजं दातारमब्रवम् ॥ ८.००३.२४\n",
      "तु॒रीय॒मिद्रोहि॑तस्य॒ पाक॑स्थामानं भो॒जं दा॒तार॑मब्रवम् ॥ ८.००३.२४\n",
      "--------------------\n",
      "पुनर्वसू हविषा वर्धयन्ती। प्रियम् देवानामप्येतु पाथः ॥ ५॥\n",
      "पुन॑र्वसू ह॒विषा॑ व॒र्धय॑न्ती। प्रि॒यम् दे॒वाना॒मप्ये॑तु॒ पाथः॑ ॥ ५॥\n",
      "--------------------\n",
      "१.५९१ चुच्यँ इत्येके ।\n",
      "१.५९१ चुच्यँ इत्येके॑ ।\n",
      "--------------------\n"
     ]
    }
   ],
   "source": [
    "print(\"Plain Text\", \"\\nPitched Text\\n\")\n",
    "for i in range(5):\n",
    "    print(train_unpitched[i])\n",
    "    print(train_pitched[i])\n",
    "    print(\"-\"*20)"
   ]
  },
  {
   "cell_type": "code",
   "execution_count": 4,
   "id": "74b34025",
   "metadata": {},
   "outputs": [
    {
     "name": "stdout",
     "output_type": "stream",
     "text": [
      "म्रक्ष् । भ्वा० सेट् प० । म्रक्षँ [सङ्घा॒ते] इत्येके॑ १.७५५ ॥\n"
     ]
    }
   ],
   "source": [
    "print(sentences[30965])"
   ]
  },
  {
   "cell_type": "code",
   "execution_count": 5,
   "id": "9500ee33",
   "metadata": {},
   "outputs": [
    {
     "name": "stdout",
     "output_type": "stream",
     "text": [
      "['म्रक्ष् । भ्वा० सेट् प० । म्रक्षँ [सङ्घाते] इत्येके १.७५५ ॥'] 59\n",
      "['म्रक्ष् । भ्वा० सेट् प० । म्रक्षँ [सङ्घा॒ते] इत्येके॑ १.७५५ ॥'] 61\n"
     ]
    }
   ],
   "source": [
    "sample_case=[sentences[30965]]\n",
    "x,y=create_pitched_unpitched(sample_case, VEDIC_ACCENTS)\n",
    "print(y, len(y[0]))\n",
    "print(x, len(x[0]))"
   ]
  },
  {
   "cell_type": "code",
   "execution_count": 6,
   "id": "e88f0f66",
   "metadata": {},
   "outputs": [
    {
     "name": "stdout",
     "output_type": "stream",
     "text": [
      "Above line have 2 vedic matras\n"
     ]
    }
   ],
   "source": [
    "print(f\"Above line have {len(x[0]) -len(y[0])} vedic matras\")"
   ]
  }
 ],
 "metadata": {
  "kernelspec": {
   "display_name": "SargamLM",
   "language": "python",
   "name": "python3"
  },
  "language_info": {
   "codemirror_mode": {
    "name": "ipython",
    "version": 3
   },
   "file_extension": ".py",
   "mimetype": "text/x-python",
   "name": "python",
   "nbconvert_exporter": "python",
   "pygments_lexer": "ipython3",
   "version": "3.10.18"
  }
 },
 "nbformat": 4,
 "nbformat_minor": 5
}
